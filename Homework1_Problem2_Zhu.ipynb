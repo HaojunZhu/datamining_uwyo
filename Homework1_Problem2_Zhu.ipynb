{
 "cells": [
  {
   "cell_type": "markdown",
   "metadata": {},
   "source": [
    "## Data Mining Homework \\#1 Problem \\#2 \n",
    "\n",
    "## Haojun Zhu W\\#08393310 \n",
    "\n",
    "Approx $e^{-9}$ using Taylor's Series\n",
    "\n",
    "### 1. Approximation using 10, 50, and 125 terms."
   ]
  },
  {
   "cell_type": "code",
   "execution_count": 54,
   "metadata": {
    "collapsed": true
   },
   "outputs": [],
   "source": [
    "import math\n",
    "\n",
    "# function to approx e^x using Taylor expansion with n terms\n",
    "def exponential(n, x):\n",
    "    approx = 0    \n",
    "    for i in range(0,n):\n",
    "        approx = approx + math.pow(x,i) / math.factorial(i)\n",
    "    return float(approx)"
   ]
  },
  {
   "cell_type": "code",
   "execution_count": 55,
   "metadata": {
    "collapsed": false
   },
   "outputs": [
    {
     "name": "stdout",
     "output_type": "stream",
     "text": [
      "Approximation \n",
      "10 terms: -518.589285714 \n",
      "50 terms: 0.000123409804019 \n",
      "125 terms: 0.000123409804019\n"
     ]
    }
   ],
   "source": [
    "t10 = exponential(n = 10, x = -9)\n",
    "t50 = exponential(n = 50, x = -9)\n",
    "t125 = exponential(n = 125, x = -9)\n",
    "\n",
    "print 'Approximation \\n', '10 terms:', t10,'\\n', '50 terms:', t50, '\\n', '125 terms:', t125"
   ]
  },
  {
   "cell_type": "markdown",
   "metadata": {},
   "source": [
    "### 2. Percent error using 10, 50, and 125 terms."
   ]
  },
  {
   "cell_type": "code",
   "execution_count": 56,
   "metadata": {
    "collapsed": false
   },
   "outputs": [
    {
     "name": "stdout",
     "output_type": "stream",
     "text": [
      "10 terms: -420217350.608%\n",
      "50 terms: -5.49303543432e-08%\n",
      "125 terms: -5.49186697862e-08%\n"
     ]
    }
   ],
   "source": [
    "true_val = math.exp(-9)\n",
    "e10 = (t10 - true_val) / true_val * 100\n",
    "e50 = (t50 - true_val) / true_val * 100\n",
    "e125 = (t125 - true_val) / true_val * 100\n",
    "\n",
    "print '10 terms: {0}%\\n50 terms: {1}%\\n125 terms: {2}%'.format(e10,e50,e125)"
   ]
  },
  {
   "cell_type": "code",
   "execution_count": 57,
   "metadata": {
    "collapsed": false
   },
   "outputs": [
    {
     "name": "stdout",
     "output_type": "stream",
     "text": [
      "-3.48297651793\n"
     ]
    }
   ],
   "source": [
    "print exponential(n=20, x = -9)"
   ]
  },
  {
   "cell_type": "markdown",
   "metadata": {},
   "source": [
    "### 3. Number of terms required to achieve less than $1\\times10^{-5}$ error"
   ]
  },
  {
   "cell_type": "code",
   "execution_count": 92,
   "metadata": {
    "collapsed": false
   },
   "outputs": [
    {
     "name": "stdout",
     "output_type": "stream",
     "text": [
      "39 terms are required to achieve less than 1e-5 error\n"
     ]
    }
   ],
   "source": [
    "i = 1\n",
    "newE = exponential(n = i, x = -9)\n",
    "while math.fabs((newE - true_val)/true_val) > 1e-5:\n",
    "    i += 1\n",
    "    newE = exponential(n = i, x = -9)\n",
    "    \n",
    "print '{} terms are required to achieve less than 1e-5 error'.format(i)"
   ]
  },
  {
   "cell_type": "markdown",
   "metadata": {},
   "source": [
    "### 4.1 Approximation/error using 250 terms\n",
    "\n",
    "$250!$ would cause overflow for `float` datatype. We can use the `decimal` module for decimal floating point arithmetic. "
   ]
  },
  {
   "cell_type": "code",
   "execution_count": 58,
   "metadata": {
    "collapsed": false
   },
   "outputs": [
    {
     "name": "stdout",
     "output_type": "stream",
     "text": [
      "250 terms approximation: 0.000123409804092\n",
      "250 terms percent error: -5.49303543432e-08%\n"
     ]
    }
   ],
   "source": [
    "import math\n",
    "from decimal import Decimal\n",
    "\n",
    "def exponential1(n, x):\n",
    "    approx = 0    \n",
    "    for i in range(0,n):\n",
    "        approx = approx + Decimal(math.pow(x,i)) / Decimal(math.factorial(i))\n",
    "    return float(approx)\n",
    "\n",
    "t250 = exponential1(n = 250, x = -9)\n",
    "e250 = (t250 - true_val) / true_val * 100\n",
    "\n",
    "print '250 terms approximation: {0}\\n250 terms percent error: {1}%'.format(t250,e500)"
   ]
  },
  {
   "cell_type": "markdown",
   "metadata": {},
   "source": [
    "### 4.2 Approximation/error using 500 terms"
   ]
  },
  {
   "cell_type": "code",
   "execution_count": null,
   "metadata": {
    "collapsed": true
   },
   "outputs": [],
   "source": []
  }
 ],
 "metadata": {
  "celltoolbar": "Edit Metadata",
  "kernelspec": {
   "display_name": "Python 2",
   "language": "python",
   "name": "python2"
  },
  "language_info": {
   "codemirror_mode": {
    "name": "ipython",
    "version": 2
   },
   "file_extension": ".py",
   "mimetype": "text/x-python",
   "name": "python",
   "nbconvert_exporter": "python",
   "pygments_lexer": "ipython2",
   "version": "2.7.12"
  }
 },
 "nbformat": 4,
 "nbformat_minor": 2
}
