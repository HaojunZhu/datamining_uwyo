{
 "cells": [
  {
   "cell_type": "markdown",
   "metadata": {
    "deletable": true,
    "editable": true
   },
   "source": [
    "# Data Mining Homework \\#2 -- Document Similarity & Hashing\n",
    "\n",
    "### Haojun Zhu \n",
    "\n",
    "\n",
    "\n",
    "## Problem 1 -- Create k-grams\n",
    "\n",
    "\n",
    "\n",
    "As a first step, I read in all four documents and remove multiple spaces, special characters, punctuation marks. \n",
    "\n",
    "\n",
    "### Q1"
   ]
  },
  {
   "cell_type": "code",
   "execution_count": 22,
   "metadata": {
    "collapsed": false,
    "deletable": true,
    "editable": true
   },
   "outputs": [],
   "source": [
    "import string\n",
    "import re\n",
    "D = {}\n",
    "for i in range(1,5):\n",
    "    #with open('/home/haojun/Documents/Data mining/hw2/D%i.txt' %i, 'r') as doc:\n",
    "    with open('./D%i.txt' %i, 'r') as doc:\n",
    "        text = doc.read()\n",
    "        text = text.lower()\n",
    "        # regex to match a string of characters that are not a letters or numbers\n",
    "        D[i] = re.sub('[^A-Za-z0-9]+', ' ', text)  "
   ]
  },
  {
   "cell_type": "code",
   "execution_count": 26,
   "metadata": {
    "collapsed": false,
    "deletable": true,
    "editable": true
   },
   "outputs": [],
   "source": [
    "# 2-gram/shingle based on characters\n",
    "n = 2\n",
    "SH1 = {}\n",
    "SH1_len = {}\n",
    "for j in range(1,5):\n",
    "    SH1[j] = [D[j][i:i+n] for i in range(len(D[j])-n+1)]\n",
    "    SH1_len[j] = len(set(SH1[j]))\n",
    "\n",
    "\n",
    "# 3-gram/shingle based on characters    \n",
    "n = 3\n",
    "SH2 = {}\n",
    "SH2_len = {}\n",
    "for j in range(1,5):\n",
    "    SH2[j] = [D[j][i:i+n] for i in range(len(D[j])-n+1)]\n",
    "    SH2_len[j] = len(set(SH2[j]))\n",
    "\n",
    "\n",
    "# 2- gram/shingle based on words\n",
    "n = 2\n",
    "SH3 = {}\n",
    "SH3_len = {}\n",
    "for j in range(1,5):\n",
    "    input = D[j].split(' ')\n",
    "    output = []\n",
    "    for i in range(len(input)-n+1):\n",
    "        output.append(input[i:i+n])\n",
    "    SH3[j] = output\n",
    "    SH3_len[j] = len(SH3[j])"
   ]
  },
  {
   "cell_type": "code",
   "execution_count": 27,
   "metadata": {
    "collapsed": false,
    "deletable": true,
    "editable": true
   },
   "outputs": [],
   "source": [
    "import nltk\n",
    "from nltk.util import ngrams\n",
    "\n",
    "# 2- gram/shingle based on words\n",
    "n = 2\n",
    "SH3 = {}\n",
    "SH3_len = {}\n",
    "for j in range(1,5):\n",
    "    input = D[j].split(' ')\n",
    "    output = []\n",
    "    for ngram in ngrams(input, n):\n",
    "        output.append(' '.join(str(i) for i in ngram))\n",
    "        SH3[j] = output\n",
    "        SH3_len[j] = len(SH3[j])"
   ]
  },
  {
   "cell_type": "code",
   "execution_count": 28,
   "metadata": {
    "collapsed": false,
    "deletable": true,
    "editable": true
   },
   "outputs": [
    {
     "name": "stdout",
     "output_type": "stream",
     "text": [
      "{1: 252, 2: 274, 3: 267, 4: 281}\n",
      "{1: 665, 2: 751, 3: 772, 4: 899}\n",
      "{1: 194, 2: 276, 3: 252, 4: 333}\n"
     ]
    }
   ],
   "source": [
    "print SH1_len\n",
    "print SH2_len\n",
    "print SH3_len"
   ]
  },
  {
   "cell_type": "markdown",
   "metadata": {
    "deletable": true,
    "editable": true
   },
   "source": [
    "### Q2\n",
    "\n",
    "Jaccard similarity of two sets is defined as the size of their intersection divided by the size of their union. "
   ]
  },
  {
   "cell_type": "code",
   "execution_count": 18,
   "metadata": {
    "collapsed": false,
    "deletable": true,
    "editable": true
   },
   "outputs": [],
   "source": [
    "def jaccard_similarity(set1, set2):\n",
    "    intersect = len(set(set1).intersection(set2))\n",
    "    union = len(set(set1).union(set2))\n",
    "    return intersect / float(union)"
   ]
  },
  {
   "cell_type": "code",
   "execution_count": 19,
   "metadata": {
    "collapsed": false,
    "deletable": true,
    "editable": true
   },
   "outputs": [
    {
     "name": "stdout",
     "output_type": "stream",
     "text": [
      "0.64375\n",
      "0.724252491694\n",
      "0.660436137072\n",
      "0.644376899696\n",
      "0.627565982405\n",
      "0.660606060606\n"
     ]
    }
   ],
   "source": [
    "# SH1\n",
    "print jaccard_similarity(SH1[1], SH1[2])\n",
    "print jaccard_similarity(SH1[1], SH1[3])\n",
    "print jaccard_similarity(SH1[1], SH1[4])\n",
    "print jaccard_similarity(SH1[2], SH1[3])\n",
    "print jaccard_similarity(SH1[2], SH1[4])\n",
    "print jaccard_similarity(SH1[3], SH1[4])"
   ]
  },
  {
   "cell_type": "code",
   "execution_count": 20,
   "metadata": {
    "collapsed": false,
    "deletable": true,
    "editable": true
   },
   "outputs": [
    {
     "name": "stdout",
     "output_type": "stream",
     "text": [
      "0.368115942029\n",
      "0.422772277228\n",
      "0.281967213115\n",
      "0.364695340502\n",
      "0.31160572337\n",
      "0.295348837209\n"
     ]
    }
   ],
   "source": [
    "# SH2\n",
    "print jaccard_similarity(SH2[1], SH2[2])\n",
    "print jaccard_similarity(SH2[1], SH2[3])\n",
    "print jaccard_similarity(SH2[1], SH2[4])\n",
    "print jaccard_similarity(SH2[2], SH2[3])\n",
    "print jaccard_similarity(SH2[2], SH2[4])\n",
    "print jaccard_similarity(SH2[3], SH2[4])"
   ]
  },
  {
   "cell_type": "code",
   "execution_count": 21,
   "metadata": {
    "collapsed": false,
    "deletable": true,
    "editable": true
   },
   "outputs": [
    {
     "name": "stdout",
     "output_type": "stream",
     "text": [
      "0.0425531914894\n",
      "0.137837837838\n",
      "0.00796812749004\n",
      "0.0384615384615\n",
      "0.0106194690265\n",
      "0.0128676470588\n"
     ]
    }
   ],
   "source": [
    "# SH3\n",
    "print jaccard_similarity(SH3[1], SH3[2])\n",
    "print jaccard_similarity(SH3[1], SH3[3])\n",
    "print jaccard_similarity(SH3[1], SH3[4])\n",
    "print jaccard_similarity(SH3[2], SH3[3])\n",
    "print jaccard_similarity(SH3[2], SH3[4])\n",
    "print jaccard_similarity(SH3[3], SH3[4])"
   ]
  },
  {
   "cell_type": "markdown",
   "metadata": {
    "deletable": true,
    "editable": true
   },
   "source": [
    "## Problem 2 Min Hash\n",
    "\n",
    "\n",
    "In order to get the signature matrix for D1 and D2, I need to hash the 3-shingles based on characters to 32-bit integers. "
   ]
  },
  {
   "cell_type": "code",
   "execution_count": 37,
   "metadata": {
    "collapsed": false,
    "deletable": true,
    "editable": true
   },
   "outputs": [],
   "source": [
    "import binascii\n",
    "\n",
    "SH_D1 = set()\n",
    "for i in range(0, len(SH2[1])):\n",
    "    crc = binascii.crc32(SH2[1][i]) & 0xffffffff\n",
    "    SH_D1.add(crc)\n",
    "\n",
    "SH_D2 = set()\n",
    "for i in range(0, len(SH2[2])):\n",
    "    crc = binascii.crc32(SH2[2][i]) & 0xffffffff\n",
    "    SH_D2.add(crc)"
   ]
  },
  {
   "cell_type": "markdown",
   "metadata": {
    "deletable": true,
    "editable": true
   },
   "source": [
    "The code below is adapted from Prof. Mike Borowczak's lecture notes. It generates a list with unique random numbers so that they can be used for the hash function. The maximum shingle ID is chosen to be 10,050, and the next prime number thus is 10,099."
   ]
  },
  {
   "cell_type": "code",
   "execution_count": 47,
   "metadata": {
    "collapsed": true,
    "deletable": true,
    "editable": true
   },
   "outputs": [],
   "source": [
    "import time\n",
    "import random\n",
    "\n",
    "maxShingleID = 10050\n",
    "nextPrime = 10099\n",
    "\n",
    "def pickRandomCoeffs(k):\n",
    "    # Create a list of 'k' random values.\n",
    "    randList = []\n",
    "  \n",
    "    while k > 0:\n",
    "    # Get a random shingle ID.\n",
    "        randIndex = random.randint(0, maxShingleID) \n",
    "  \n",
    "    # Ensure that each random number is unique.\n",
    "        while randIndex in randList:\n",
    "            randIndex = random.randint(0, maxShingleID) \n",
    "    \n",
    "    # Add the random number to the list.\n",
    "        randList.append(randIndex)\n",
    "        k = k - 1\n",
    "    \n",
    "    return randList"
   ]
  },
  {
   "cell_type": "markdown",
   "metadata": {
    "deletable": true,
    "editable": true
   },
   "source": [
    "The code below calculates the normalized L0 distance between document D1 and D2. Change `numHashes` when appropriate. "
   ]
  },
  {
   "cell_type": "code",
   "execution_count": 139,
   "metadata": {
    "collapsed": false,
    "deletable": true,
    "editable": true
   },
   "outputs": [
    {
     "name": "stdout",
     "output_type": "stream",
     "text": [
      "\n",
      "Time elapsed: 0.04 sec.\n",
      "\n",
      "Number of random hashes counts: 100\n",
      "\n",
      "Normalized L0 distance: 0.34\n"
     ]
    }
   ],
   "source": [
    "t0 = time.time()\n",
    "\n",
    "# RHC\n",
    "numHashes = 100\n",
    "\n",
    "a = pickRandomCoeffs(numHashes)\n",
    "\n",
    "# min hash signatures for D1\n",
    "shingleIDSet1 = SH_D1\n",
    "signature1 = []\n",
    "\n",
    "for i in range(0, numHashes):\n",
    "    minHashCode = nextPrime + 1\n",
    "    \n",
    "    for j in shingleIDSet1:\n",
    "        hashCode = (a[i] * j + 1) % nextPrime\n",
    "        if hashCode < minHashCode:\n",
    "            minHashCode = hashCode\n",
    "    \n",
    "    signature1.append(minHashCode)\n",
    "\n",
    "    \n",
    "# min hash signatures for D2 \n",
    "shingleIDSet2 = SH_D2\n",
    "signature2 = []\n",
    "\n",
    "for i in range(0, numHashes):\n",
    "    minHashCode = nextPrime + 1\n",
    "    \n",
    "    for j in shingleIDSet2:\n",
    "        hashCode = (a[i] * j + 1) % nextPrime\n",
    "        if hashCode < minHashCode:\n",
    "            minHashCode = hashCode\n",
    "    \n",
    "    signature2.append(minHashCode)\n",
    "\n",
    "# normalized L0 distance between D1 and D2  \n",
    "count = 0 \n",
    "\n",
    "for k in range(0, numHashes):\n",
    "            count = count + (signature1[k] == signature2[k])\n",
    "        \n",
    "        \n",
    "print '\\nTime elapsed: %.2f sec.' % (time.time() - t0)\n",
    "print '\\nNumber of random hashes counts: %d' % numHashes        \n",
    "print '\\nNormalized L0 distance: %.2f' % (count / float(numHashes))\n",
    "\n",
    "    "
   ]
  },
  {
   "cell_type": "markdown",
   "metadata": {
    "deletable": true,
    "editable": true
   },
   "source": [
    "I put the above calculation in a loop so that it can be performed many times and the distribution of L0 distance can be visualized. "
   ]
  },
  {
   "cell_type": "code",
   "execution_count": 257,
   "metadata": {
    "collapsed": false,
    "deletable": true,
    "editable": true,
    "scrolled": false
   },
   "outputs": [],
   "source": [
    "numHashes = 200\n",
    "rep = 100\n",
    "\n",
    "counts = []\n",
    "\n",
    "for l in range(0, rep):\n",
    "    t0 = time.time()\n",
    "\n",
    "    a = pickRandomCoeffs(numHashes)\n",
    "\n",
    "    # min hash signatures for D1\n",
    "    shingleIDSet1 = SH_D1\n",
    "    signature1 = []\n",
    "\n",
    "    for i in range(0, numHashes):\n",
    "        minHashCode = nextPrime + 1\n",
    "\n",
    "        for j in shingleIDSet1:\n",
    "            hashCode = (a[i] * j + 1) % nextPrime\n",
    "            if hashCode < minHashCode:\n",
    "                minHashCode = hashCode\n",
    "\n",
    "        signature1.append(minHashCode)\n",
    "\n",
    "\n",
    "    # min hash signatures for D2 \n",
    "    shingleIDSet2 = SH_D2\n",
    "    signature2 = []\n",
    "\n",
    "    for i in range(0, numHashes):\n",
    "        minHashCode = nextPrime + 1\n",
    "\n",
    "        for j in shingleIDSet2:\n",
    "            hashCode = (a[i] * j + 1) % nextPrime\n",
    "            if hashCode < minHashCode:\n",
    "                minHashCode = hashCode\n",
    "\n",
    "        signature2.append(minHashCode)\n",
    "\n",
    "    # normalized L0 distance between D1 and D2  \n",
    "    count = 0 \n",
    "\n",
    "    for k in range(0, numHashes):\n",
    "                count = count + (signature1[k] == signature2[k])\n",
    "\n",
    "    counts.append(count / float(numHashes))"
   ]
  },
  {
   "cell_type": "markdown",
   "metadata": {
    "deletable": true,
    "editable": true
   },
   "source": [
    "It seems 200 RHC is good enough. "
   ]
  },
  {
   "cell_type": "code",
   "execution_count": 261,
   "metadata": {
    "collapsed": false,
    "deletable": true,
    "editable": true
   },
   "outputs": [
    {
     "data": {
      "image/png": "[encoded data removed]",
      "text/plain": [
       "<matplotlib.figure.Figure at 0x7f76923bc410>"
      ]
     },
     "metadata": {},
     "output_type": "display_data"
    }
   ],
   "source": [
    "import matplotlib.pyplot as plt\n",
    "\n",
    "plt.hist(counts, bins = 15)\n",
    "plt.xlabel(\"L0 Distance\")\n",
    "plt.ylabel(\"Frequency\")\n",
    "plt.show()  "
   ]
  },
  {
   "cell_type": "markdown",
   "metadata": {
    "collapsed": false,
    "deletable": true,
    "editable": true
   },
   "source": [
    "## Problem 3 LSH\n",
    "\n",
    "\n",
    "A total of 60 hash functions are used. Since b and r both have to be integers and their product must equal the total number of hash functions, they have the following combinations.\n",
    "\n"
   ]
  },
  {
   "cell_type": "code",
   "execution_count": 26,
   "metadata": {
    "collapsed": false
   },
   "outputs": [
    {
     "name": "stdout",
     "output_type": "stream",
     "text": [
      "The rpy2.ipython extension is already loaded. To reload it, use:\n",
      "  %reload_ext rpy2.ipython\n"
     ]
    }
   ],
   "source": [
    "%load_ext rpy2.ipython"
   ]
  },
  {
   "cell_type": "code",
   "execution_count": 27,
   "metadata": {
    "collapsed": false,
    "deletable": true,
    "editable": true
   },
   "outputs": [
    {
     "data": {
      "text/plain": [
       " [1] 60 30 20 15 12 10  6  5  4  3  2  1\n",
       " [1]  1  2  3  4  5  6 10 12 15 20 30 60\n"
      ]
     },
     "metadata": {},
     "output_type": "display_data"
    }
   ],
   "source": [
    "%%R\n",
    "b <- c(60,30,20,15,12,10,6,5,4,3,2,1)\n",
    "r <- 60/b\n",
    "\n",
    "print(b)\n",
    "print(r)"
   ]
  },
  {
   "cell_type": "code",
   "execution_count": 29,
   "metadata": {
    "collapsed": false,
    "deletable": true,
    "editable": true
   },
   "outputs": [
    {
     "data": {
      "image/png": "[encoded data removed]"
     },
     "metadata": {},
     "output_type": "display_data"
    }
   ],
   "source": [
    "%%R\n",
    "library(RColorBrewer)\n",
    "\n",
    "s <- seq(0,1,1e-4)\n",
    "\n",
    "color <- rgb(runif(length(b)),runif(length(b)),runif(length(b))) \n",
    "v <- seq(.9, .1, length.out = length(b))\n",
    "\n",
    "plot(1-(1-s^r[1])^b[1] ~ s, type = 'l', xlim = c(0, 1.4), col = color[1], xlab = 'Jaccard index', ylab = 'Probability of being chosen as candidates')\n",
    "text(1.2, v[1], paste('b = ', b[1], ', r = ', r[1]), col = color[1])\n",
    "\n",
    "for (i in 2:length(b)) {\n",
    "  lines(s, 1-(1-s^r[i])^b[i], col = color[i])\n",
    "  text(1.2, v[i], paste('b = ', b[i], ', r = ', r[i]), col = color[i])\n",
    "}"
   ]
  },
  {
   "cell_type": "code",
   "execution_count": 30,
   "metadata": {
    "collapsed": false
   },
   "outputs": [
    {
     "data": {
      "text/plain": [
       "[1] \"b =  15 , r =  4\"\n"
      ]
     },
     "metadata": {},
     "output_type": "display_data"
    }
   ],
   "source": [
    "%%R \n",
    "# steepest slope curve at tau = .5\n",
    "slope = numeric(length(b))\n",
    "p <- c(.495, .505)\n",
    "for (i in 1:length(b)) {\n",
    "  slope[i] <- diff(1-(1-p^r[i])^b[i])\n",
    "}\n",
    "m <- which.max(slope)\n",
    "paste('b = ', b[m], ', r = ', r[m])"
   ]
  },
  {
   "cell_type": "markdown",
   "metadata": {
    "collapsed": false,
    "deletable": true,
    "editable": true
   },
   "source": [
    "## Problem 4"
   ]
  },
  {
   "cell_type": "code",
   "execution_count": 34,
   "metadata": {
    "collapsed": false,
    "deletable": true,
    "editable": true
   },
   "outputs": [
    {
     "data": {
      "text/plain": [
       "        D1-D2     D1-D3      D1-D4     D2-D3     D2-D4     D3-D4\n",
       "tau 0.3681000 0.4228000 0.28200000 0.3647000 0.3116000 0.2953000\n",
       "Pr  0.2426679 0.3856263 0.09077457 0.2348891 0.1324491 0.1081871\n"
      ]
     },
     "metadata": {},
     "output_type": "display_data"
    }
   ],
   "source": [
    "%%R\n",
    "tau <- c(0.3681,\n",
    "         0.4228,\n",
    "         0.2820,\n",
    "         0.3647,\n",
    "         0.3116,\n",
    "         0.2953)\n",
    "pp <- 1-(1-tau^r[m])^b[m]\n",
    "dd <- rbind(t(tau), pp)\n",
    "row.names(dd) <- c('tau', 'Pr')\n",
    "colnames(dd) <- c('D1-D2',\n",
    "                  ' D1-D3',\n",
    "                   'D1-D4',\n",
    "                   'D2-D3',\n",
    "                   'D2-D4',\n",
    "                   'D3-D4')\n",
    "dd"
   ]
  }
 ],
 "metadata": {
  "kernelspec": {
   "display_name": "Python 2",
   "language": "python",
   "name": "python2"
  },
  "language_info": {
   "codemirror_mode": {
    "name": "ipython",
    "version": 2
   },
   "file_extension": ".py",
   "mimetype": "text/x-python",
   "name": "python",
   "nbconvert_exporter": "python",
   "pygments_lexer": "ipython2",
   "version": "2.7.12"
  }
 },
 "nbformat": 4,
 "nbformat_minor": 2
}
